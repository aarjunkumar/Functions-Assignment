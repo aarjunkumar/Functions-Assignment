{
  "nbformat": 4,
  "nbformat_minor": 0,
  "metadata": {
    "colab": {
      "provenance": []
    },
    "kernelspec": {
      "name": "python3",
      "display_name": "Python 3"
    },
    "language_info": {
      "name": "python"
    }
  },
  "cells": [
    {
      "cell_type": "markdown",
      "source": [
        "# Theory Questions\n",
        "\n",
        "Q1. What is the difference between a function and a method in Python?\n",
        "\n",
        "Sol. Some of the diffrences between functions and methods are:-\n",
        "\n",
        "  *   Definition\n",
        "  \n",
        "        1.   Functions:- A funtion is defined using def keyword and can exist independently. It is not bound to any object.\n",
        "\n",
        "        Example:-\n",
        "               \n",
        "                 def greet():\n",
        "                    print(\"Hello World|\")\n",
        "\n",
        "                 greet()\n",
        "\n",
        "                  // Output : Hello World|\n",
        "\n",
        "        2.   Methods:- A method is similar to function but is associated with a class or object. Methods are define within a class and are used to operate on the object data or perform specific task.\n",
        "  \n",
        "        Example:-\n",
        "              \n",
        "                  class greet():\n",
        "                      def gret(self):\n",
        "                          print(\"Hello World|\")\n",
        "\n",
        "                  g=greet()\n",
        "                  g.gret()\n",
        "\n",
        "                   // Output : Hello World|\n",
        "\n",
        "  \n",
        "  *   Binding\n",
        "    \n",
        "    1.   Functions are not bound to any object ar class. It can be called directly.\n",
        "    2.   A Method is bound to an object or class. It nedds an instance of class to be called.\n",
        "\n",
        "  \n",
        "\n",
        "*   Parameters\n",
        "    1.   Functions can have zero parameters\n",
        "    2.   methods should have a default parameter self to get the object's or class address\n",
        "\n",
        "\n",
        "*   Calling\n",
        "    \n",
        "    1.   Functions can be executed just calling by its name.\n",
        "    2.   To execute methods, we need to use either object name or class name and a dot operator.\n",
        "\n",
        "\n",
        "\n",
        "\n",
        "\n",
        "\n",
        "\n",
        "\n",
        "\n"
      ],
      "metadata": {
        "id": "ohRsiZT_amrh"
      }
    },
    {
      "cell_type": "markdown",
      "source": [
        "\n",
        "\n",
        "---\n",
        "\n"
      ],
      "metadata": {
        "id": "hJCqwdkEYnRS"
      }
    },
    {
      "cell_type": "markdown",
      "source": [
        "Q2. Explain the concept of function arguments and parameters in Python.\n",
        "\n",
        "Sol.\n",
        "\n",
        "\n",
        "*   Parameters:-\n",
        "    \n",
        "    Parameters are varialbles defined within the paranthesis when function is defined. They are written when we declare a funtion.\n",
        "        \n",
        "\n",
        "        // Here a and b are parameters\n",
        "        def sum(a,b):\n",
        "            print(a+b)\n",
        "\n",
        "        sum(1,0)\n",
        "\n",
        "*   Arguments:-\n",
        "\n",
        "    An argument is a value which is passed to a function when it is called. It might be a variable, value ar an object passed to function or method as input.\n",
        "\n",
        "        def sum(a,b):\n",
        "            print(a+b)\n",
        "\n",
        "        // Here 1 and 2 are arguments\n",
        "        sum(1,2)\n",
        "\n",
        "\n",
        "\n",
        "  \n",
        "  Types of Aruments:-\n",
        "    \n",
        "\n",
        "\n",
        "1.   Positional Arguments:- These are passed to the functions in the same order as the parameters are defined.\n",
        "\n",
        "    Example:-\n",
        "\n",
        "            def person_name(first_name,last_name):\n",
        "                  print(first_name + last_name)\n",
        "\n",
        "            // First name is placed first\n",
        "            // Second name is placed second\n",
        "\n",
        "            person_name('Arjun','Kumar')\n",
        "\n",
        "            \n",
        "2.   Keyword Arguments:- These are passed with the parameter name,allowing them to be any order\n",
        "    \n",
        "    Example:-\n",
        "\n",
        "            def person_name(first_name,last_name):\n",
        "                  print(\"first_name+last_name\")\n",
        "\n",
        "            // here we are sxplicitly assigning values\n",
        "\n",
        "            person_name(last_name=\"Kumar\",first_name=\"Arjun\")\n",
        "\n",
        "\n",
        "3.   Default Arguments:- These have default value when no argument is provided.\n",
        "\n",
        "    Exapmle:-\n",
        "\n",
        "            def greet(name=\"Arjun\"):\n",
        "                print(f\"Helo {name}\")\n",
        "\n",
        "            greet() // use default value\n",
        "            greet(\"Karan\") // use argument which has been passed\n",
        "\n",
        "4.   Variable-Length Arguments:= These follow passing a arbitrary number of arguments, using *args fro positional and **kwargs for keyword arguments.\n",
        "\n",
        "    Example:-\n",
        "\n",
        "            def sum(*args):\n",
        "                print(sum(srgs))\n",
        "\n",
        "            sum(1,2,3) // Prints 6\n",
        "\n",
        "\n",
        "\n"
      ],
      "metadata": {
        "id": "tV0cP5BIgZ46"
      }
    },
    {
      "cell_type": "markdown",
      "source": [
        "\n",
        "\n",
        "---\n",
        "\n",
        "\n",
        "\n",
        "---\n",
        "\n"
      ],
      "metadata": {
        "id": "GMjeqZaEYpJi"
      }
    },
    {
      "cell_type": "markdown",
      "source": [
        "Q3. What are the different ways to define and call a function in Python?\n",
        "\n",
        "Sol. There are many ways to definr and call a function:-\n",
        "\n",
        "\n",
        "1.   Standard Function:\n",
        "     \n",
        "     Syntax:-\n",
        "              def function_name(parameter):\n",
        "                  // function body\n",
        "                  return value\n",
        "\n",
        "              // function call\n",
        "              function_name(argument)\n",
        "\n",
        "2.   Lambda Function:-\n",
        "\n",
        "     Syntax:-\n",
        "              \n",
        "              lambda parameters: expression\n",
        "\n",
        "              // calling\n",
        "\n",
        "              (lambda parameters: expression) (arguments)\n",
        "\n",
        "\n",
        "\n",
        "4.   Function with default parameters\n",
        "\n",
        "     Syntax:-\n",
        "\n",
        "              def function_name(parameter):\n",
        "              // function body\n",
        "\n",
        "              //calling\n",
        "              function_name()\n",
        "\n",
        "\n",
        "5.   Functions with variable length parameters\n",
        "\n",
        "      Syntax:-\n",
        "\n",
        "              def function_name(*args,**kwargs):\n",
        "              // function body\n",
        "\n",
        "              //calling\n",
        "              function_name(arg1,arg2, keyword1=value1,keyword2=value2)\n",
        "\n",
        "\n",
        "\n",
        "\n",
        "\n",
        "\n",
        "\n",
        "\n"
      ],
      "metadata": {
        "id": "_lUg5iNG9AX_"
      }
    },
    {
      "cell_type": "markdown",
      "source": [
        "\n",
        "\n",
        "---\n",
        "\n",
        "\n",
        "\n",
        "---\n",
        "\n"
      ],
      "metadata": {
        "id": "0UiEcySxYs3R"
      }
    },
    {
      "cell_type": "markdown",
      "source": [
        "Q4. What is the purpose of the `return` statement in a Python function?\n",
        "\n",
        "Sol. A return statement is used to end the execution of the function call and returns nthe result to the caller. The statements after the return statement are not executed. If the return statement is without any expression, then the special value None is return.\n",
        "\n",
        "It has several purpose like:-\n",
        "\n",
        "\n",
        "\n",
        "1.   Returning a value:- The main purpose of return statement is to return the value when the function is called.\n",
        "2.   Exiting the function early:- It also serves as an exit point for the function. once return is executed, the function stops executing any further code within it.\n",
        "\n",
        "\n",
        "3.   Returning Multiple values:- Python functions can return multiple values as a tuple.\n",
        "4.   Return None:- If a function does not have a return statement or if it is used without an expression, the function return None by default.\n",
        "5.   Using return in recursive functions:- In recursive functions, return is used to return the result of the recursive call.\n",
        "\n",
        "\n",
        "\n"
      ],
      "metadata": {
        "id": "giECFize_d41"
      }
    },
    {
      "cell_type": "markdown",
      "source": [
        "\n",
        "\n",
        "---\n",
        "\n",
        "\n",
        "\n",
        "---\n",
        "\n"
      ],
      "metadata": {
        "id": "KpDWPAnpYuZ4"
      }
    },
    {
      "cell_type": "markdown",
      "source": [
        "Q5.  What are iterators in Python and how do they differ from iterables?\n",
        "\n",
        "Sol. Iterators:-\n",
        " Iterator in python is an object that is used to iterate over iterable objects like lists, tuples, dicts, and sets. The\n",
        "iterator object is initialized using the `iter()` method. It uses the `next()` method for iteration.\n",
        "\n",
        "Syntax:-\n",
        "\n",
        "        # Here is an example of a python inbuilt iterator\n",
        "        # value can be anything which can be iterate\n",
        "        iterable_value = 'PWskills'\n",
        "        iterable_obj = iter(iterable_value)\n",
        "        while True:\n",
        "          try:\n",
        "            # Iterate by calling next\n",
        "            item = next(iterable_obj)\n",
        "            print(item)\n",
        "          except StopIteration:\n",
        "            # exception will happen when iteration will over\n",
        "            break\n",
        "\n",
        "\n",
        "Diffrence between iterator and ir=terables are:-\n",
        "\n",
        "\n",
        "\n",
        "*   An iteralbe is an object that any user can iterate over.\n",
        "    \n",
        "    An iterator is also an object that helps a user in iterating over another iterable object\n",
        "\n",
        "\n",
        "\n",
        "*   We can generate an iterator when we pass the object to iter() method.\n",
        "\n",
        "    We use the __next()__ method for iterating. This methos=d helps iterators returning the next item available from the object.\n",
        "*   Every iterator is iterable.\n",
        "\n",
        "    Not every iterable is aniterator.\n",
        "\n",
        "\n",
        "\n"
      ],
      "metadata": {
        "id": "WhSkGEp9EN9D"
      }
    },
    {
      "cell_type": "markdown",
      "source": [
        "\n",
        "\n",
        "---\n",
        "\n",
        "\n",
        "\n",
        "---\n",
        "\n"
      ],
      "metadata": {
        "id": "ce9k6hIrYv6u"
      }
    },
    {
      "cell_type": "markdown",
      "source": [
        "Q6.  Explain the concept of generators in Python and how they are defined.\n",
        "\n",
        "Sol. Generators are type of iterables, like list or tuple, but they do not store their content in memory. instead, they generates the value on  the fly, making them more memory_efficient way to handle large sequence or stream of data.\n",
        "\n",
        "A generator function in python is denfined like a normal function but whenever it needs to generate a value, it does so with the yield keyword rether than return statement. If the body of def contains yield it automatically becomes the Python Generator function.\n",
        "\n",
        "We can create generator function simply by def and yield keyword.\n",
        "\n",
        "Syntax:-\n",
        "\n",
        "        def function_name():\n",
        "              yied statement\n",
        "\n",
        "\n",
        "Example:-\n",
        "\n",
        "        def simple():\n",
        "            yield(1)\n",
        "            yield(2)\n",
        "            yield(3)\n",
        "\n",
        "        for v in simple():\n",
        "            print(v)\n",
        "\n",
        "        Output: 1\n",
        "                2\n",
        "                3"
      ],
      "metadata": {
        "id": "8FygRJkZJrwp"
      }
    },
    {
      "cell_type": "markdown",
      "source": [
        "\n",
        "\n",
        "---\n",
        "\n",
        "\n",
        "\n",
        "---\n",
        "\n"
      ],
      "metadata": {
        "id": "Gu5qw12zYxev"
      }
    },
    {
      "cell_type": "markdown",
      "source": [
        "Q7. What are the advantages of using generators over regular functions?\n",
        "\n",
        "Sol. The advantages of generator over regular functions are:-\n",
        "\n",
        "\n",
        "\n",
        "1.   Memory Efficiency:- Generators generates value on the fly instead of storing them on the memory. which can be useful when storing large data sets.\n",
        "2.   Speed:- Generators are faster than regular functions when large data sets are used.\n",
        "\n",
        "3.   Lazy Evaluation:- Generators produces value only when requested.\n",
        "4.   State Preservation:- Generator smaintain their internal state between successive yield statement.\n",
        "5.   Infinite Sequences:- Generators can produce infinite number of sequences.\n",
        "\n",
        "\n",
        "\n",
        "\n",
        "\n"
      ],
      "metadata": {
        "id": "t3xJh_onNXXg"
      }
    },
    {
      "cell_type": "markdown",
      "source": [
        "\n",
        "\n",
        "---\n",
        "\n",
        "\n",
        "\n",
        "---\n",
        "\n"
      ],
      "metadata": {
        "id": "ZPLZEJPpYzHz"
      }
    },
    {
      "cell_type": "markdown",
      "source": [
        "Q8. What is a lambda function in Python and when is it typically used?\n",
        "\n",
        "Sol. A lambda function in Python is a concise way to create anonymous functions, also known as lambda expressions.\n",
        "\n",
        "Unlike regular functions defined using the def keyword, lambda functions are often used for short_term operations and are defined in a single line.\n",
        "\n",
        "Syntax:-\n",
        "\n",
        "        lambda arguments : expression\n",
        "\n",
        "Lambda Functions is used in various places:-\n",
        "\n",
        "\n",
        "\n",
        "*   Filtering and Mapping Data:- Lambda functions are often used in Filter() or map() to process and filter elements in an iterable.\n",
        "*   Reducing Data:- It can be used with reduce() to perform cumulative operations in a list.\n",
        "\n",
        "\n",
        "*   Customizing Sorting Order:- It can be used with sorted() function to customize the order of sortiing\n",
        "*   Expressing Indent:- It can sometime express intent more clearly than nested functions.\n",
        "\n",
        "\n",
        "\n",
        "\n"
      ],
      "metadata": {
        "id": "0z-Jh_yZPgTS"
      }
    },
    {
      "cell_type": "markdown",
      "source": [
        "\n",
        "\n",
        "---\n",
        "\n",
        "\n",
        "\n",
        "---\n",
        "\n"
      ],
      "metadata": {
        "id": "oVbma4y9Y0YU"
      }
    },
    {
      "cell_type": "markdown",
      "source": [
        "Q9.  Explain the purpose and usage of the `map()` function in Python.\n",
        "\n",
        "Sol. The map() function in python is used to apply a specified function to each item of an iterable and return a map object contaning the result.\n",
        "\n",
        "The main purpose of map is to perform a specific function or transformation of each element of an iterable.\n",
        "\n",
        "Syntax:-\n",
        "\n",
        "        map(function, iterable,...)\n",
        "\n",
        "\n",
        "Use cases of map:-\n",
        "\n",
        "\n",
        "\n",
        "1.   Transformation of data:- It is used to apply a transformation function to all elements of an iterable.\n",
        "2.   Applying methods to element:- You can use map() to apply methods or other functions to elements of an iterable.\n",
        "\n",
        "\n",
        "3.   Combining multiple iterables:- When working with multiple lists or sequences, map() can be used to combine or operate on them element-wise.\n",
        "4.   Working with nesting data structures:-map() can be used to apply transformations to elements in nested data structures like lists of lists.\n",
        "\n",
        "\n",
        "\n"
      ],
      "metadata": {
        "id": "w_sb7mzvSpto"
      }
    },
    {
      "cell_type": "markdown",
      "source": [
        "\n",
        "\n",
        "---\n",
        "\n",
        "\n",
        "\n",
        "---\n",
        "\n"
      ],
      "metadata": {
        "id": "782Lg_TGY10-"
      }
    },
    {
      "cell_type": "markdown",
      "source": [
        "Q10. What is the difference between `map()`, `reduce()`, and `filter()` functions in Python?\n",
        "\n",
        "Sol. Some of the diffrences are:-\n",
        "\n",
        "\n",
        "\n",
        "*   Purpose:-\n",
        "    1.   map() applies a function to each element.\n",
        "    2.   reduce() applies a function cumulatively.\n",
        "    3.   filter(), filters down the elemnts based on the condition.\n",
        "\n",
        "\n",
        "\n",
        "*   Output:-\n",
        "    1.   map ouputs an iterator with transformed value.\n",
        "    2.   reduce gives a single value.\n",
        "    3.   filter gives an iterator with reduced elements.\n",
        "\n",
        "\n",
        "*   Return:-\n",
        "    1.   map return trsndformed elements as an iterator.\n",
        "    2.   reduce returns a single value.\n",
        "    3.   filter return filtered elements as an iterator.\n",
        "\n",
        "\n",
        "\n",
        "*   Operation:-\n",
        "    1.   In map function operates on each elements.\n",
        "    2.   In reduce function operates on two elements.\n",
        "    3.   In filter function operates on boolean value.\n",
        "\n",
        "\n",
        "\n",
        "*   Use Case:-\n",
        "    1.   Map Transforms data.\n",
        "    2.   Reduce aggregates the data.\n",
        "    3.   Filter function filters the data based on some condition.\n",
        "\n",
        "\n",
        "\n",
        "\n",
        "\n",
        "\n",
        "\n",
        "\n",
        "\n"
      ],
      "metadata": {
        "id": "UM15VLzSVgtE"
      }
    },
    {
      "cell_type": "markdown",
      "source": [
        "\n",
        "\n",
        "---\n",
        "\n",
        "\n",
        "\n",
        "---\n",
        "\n"
      ],
      "metadata": {
        "id": "hZt6bIkLY4fY"
      }
    },
    {
      "cell_type": "markdown",
      "source": [
        "\n",
        "# Practical Questions :\n",
        "\n",
        "Q1.Write a Python function that takes a list of numbers as input and returns the sum of all even numbers in\n",
        "the list."
      ],
      "metadata": {
        "id": "iyaYXRUTc4ky"
      }
    },
    {
      "cell_type": "code",
      "execution_count": null,
      "metadata": {
        "colab": {
          "base_uri": "https://localhost:8080/"
        },
        "id": "-sgHEigOczdd",
        "outputId": "8f24ef7d-b9c1-45c7-c090-104d4ea30d1f"
      },
      "outputs": [
        {
          "output_type": "stream",
          "name": "stdout",
          "text": [
            "55\n"
          ]
        }
      ],
      "source": [
        "def list_sum(l):\n",
        "    s=0\n",
        "    for i in l:\n",
        "        s+=i\n",
        "\n",
        "    return s\n",
        "\n",
        "list=[1,2,3,4,5,6,7,8,9,10]\n",
        "x=list_sum(list)\n",
        "print(x)"
      ]
    },
    {
      "cell_type": "markdown",
      "source": [
        "Q2. Create a Python function that accepts a string and returns the reverse of that string."
      ],
      "metadata": {
        "id": "_rg60r-8VWSq"
      }
    },
    {
      "cell_type": "code",
      "source": [
        "def string_reverse(s):\n",
        "    return s[::-1]\n",
        "\n",
        "s=\"Pwskills\";\n",
        "r=string_reverse(s)\n",
        "print(r)"
      ],
      "metadata": {
        "colab": {
          "base_uri": "https://localhost:8080/"
        },
        "id": "BxDBx0u5VYK-",
        "outputId": "1b114e6e-610a-46a3-ddba-9023465c1092"
      },
      "execution_count": null,
      "outputs": [
        {
          "output_type": "stream",
          "name": "stdout",
          "text": [
            "sllikswP\n"
          ]
        }
      ]
    },
    {
      "cell_type": "markdown",
      "source": [
        "Q3. Implement a Python function that takes a list of integers and returns a new list containing the squares of\n",
        "each number."
      ],
      "metadata": {
        "id": "UFao9sydVkmP"
      }
    },
    {
      "cell_type": "code",
      "source": [
        "def square(l):\n",
        "    l1=[]\n",
        "    for i in l:\n",
        "        l1.append(i**2)\n",
        "\n",
        "    return l1\n",
        "\n",
        "l=[1,2,3,4,5,6,7,8,9,10]\n",
        "l1=square(l)\n",
        "print(l1)"
      ],
      "metadata": {
        "colab": {
          "base_uri": "https://localhost:8080/"
        },
        "id": "idTH0vhNVqtY",
        "outputId": "db13b934-997a-4504-c084-30ceafb51080"
      },
      "execution_count": null,
      "outputs": [
        {
          "output_type": "stream",
          "name": "stdout",
          "text": [
            "[1, 4, 9, 16, 25, 36, 49, 64, 81, 100]\n"
          ]
        }
      ]
    },
    {
      "cell_type": "markdown",
      "source": [
        "Q4. Write a Python function that checks if a given number is prime or not from 1 to 200."
      ],
      "metadata": {
        "id": "iICWwKCQVvI7"
      }
    },
    {
      "cell_type": "code",
      "source": [
        "def is_prime(n):\n",
        "    if(n<2):\n",
        "        return False\n",
        "\n",
        "    for i in range(2,int(n/2)+1):\n",
        "        if n%i==0:\n",
        "            return False\n",
        "\n",
        "    return True\n",
        "\n",
        "for num in range(1, 201):\n",
        "    if is_prime(num):\n",
        "        print(f\"{num} is a prime number\")\n",
        "    else:\n",
        "        print(f\"{num} is not a prime number\")"
      ],
      "metadata": {
        "colab": {
          "base_uri": "https://localhost:8080/"
        },
        "id": "MoBzOyD2V0OV",
        "outputId": "0f43748e-35f5-4d81-ad80-605325bf7530"
      },
      "execution_count": null,
      "outputs": [
        {
          "output_type": "stream",
          "name": "stdout",
          "text": [
            "1 is not a prime number\n",
            "2 is a prime number\n",
            "3 is a prime number\n",
            "4 is not a prime number\n",
            "5 is a prime number\n",
            "6 is not a prime number\n",
            "7 is a prime number\n",
            "8 is not a prime number\n",
            "9 is not a prime number\n",
            "10 is not a prime number\n",
            "11 is a prime number\n",
            "12 is not a prime number\n",
            "13 is a prime number\n",
            "14 is not a prime number\n",
            "15 is not a prime number\n",
            "16 is not a prime number\n",
            "17 is a prime number\n",
            "18 is not a prime number\n",
            "19 is a prime number\n",
            "20 is not a prime number\n",
            "21 is not a prime number\n",
            "22 is not a prime number\n",
            "23 is a prime number\n",
            "24 is not a prime number\n",
            "25 is not a prime number\n",
            "26 is not a prime number\n",
            "27 is not a prime number\n",
            "28 is not a prime number\n",
            "29 is a prime number\n",
            "30 is not a prime number\n",
            "31 is a prime number\n",
            "32 is not a prime number\n",
            "33 is not a prime number\n",
            "34 is not a prime number\n",
            "35 is not a prime number\n",
            "36 is not a prime number\n",
            "37 is a prime number\n",
            "38 is not a prime number\n",
            "39 is not a prime number\n",
            "40 is not a prime number\n",
            "41 is a prime number\n",
            "42 is not a prime number\n",
            "43 is a prime number\n",
            "44 is not a prime number\n",
            "45 is not a prime number\n",
            "46 is not a prime number\n",
            "47 is a prime number\n",
            "48 is not a prime number\n",
            "49 is not a prime number\n",
            "50 is not a prime number\n",
            "51 is not a prime number\n",
            "52 is not a prime number\n",
            "53 is a prime number\n",
            "54 is not a prime number\n",
            "55 is not a prime number\n",
            "56 is not a prime number\n",
            "57 is not a prime number\n",
            "58 is not a prime number\n",
            "59 is a prime number\n",
            "60 is not a prime number\n",
            "61 is a prime number\n",
            "62 is not a prime number\n",
            "63 is not a prime number\n",
            "64 is not a prime number\n",
            "65 is not a prime number\n",
            "66 is not a prime number\n",
            "67 is a prime number\n",
            "68 is not a prime number\n",
            "69 is not a prime number\n",
            "70 is not a prime number\n",
            "71 is a prime number\n",
            "72 is not a prime number\n",
            "73 is a prime number\n",
            "74 is not a prime number\n",
            "75 is not a prime number\n",
            "76 is not a prime number\n",
            "77 is not a prime number\n",
            "78 is not a prime number\n",
            "79 is a prime number\n",
            "80 is not a prime number\n",
            "81 is not a prime number\n",
            "82 is not a prime number\n",
            "83 is a prime number\n",
            "84 is not a prime number\n",
            "85 is not a prime number\n",
            "86 is not a prime number\n",
            "87 is not a prime number\n",
            "88 is not a prime number\n",
            "89 is a prime number\n",
            "90 is not a prime number\n",
            "91 is not a prime number\n",
            "92 is not a prime number\n",
            "93 is not a prime number\n",
            "94 is not a prime number\n",
            "95 is not a prime number\n",
            "96 is not a prime number\n",
            "97 is a prime number\n",
            "98 is not a prime number\n",
            "99 is not a prime number\n",
            "100 is not a prime number\n",
            "101 is a prime number\n",
            "102 is not a prime number\n",
            "103 is a prime number\n",
            "104 is not a prime number\n",
            "105 is not a prime number\n",
            "106 is not a prime number\n",
            "107 is a prime number\n",
            "108 is not a prime number\n",
            "109 is a prime number\n",
            "110 is not a prime number\n",
            "111 is not a prime number\n",
            "112 is not a prime number\n",
            "113 is a prime number\n",
            "114 is not a prime number\n",
            "115 is not a prime number\n",
            "116 is not a prime number\n",
            "117 is not a prime number\n",
            "118 is not a prime number\n",
            "119 is not a prime number\n",
            "120 is not a prime number\n",
            "121 is not a prime number\n",
            "122 is not a prime number\n",
            "123 is not a prime number\n",
            "124 is not a prime number\n",
            "125 is not a prime number\n",
            "126 is not a prime number\n",
            "127 is a prime number\n",
            "128 is not a prime number\n",
            "129 is not a prime number\n",
            "130 is not a prime number\n",
            "131 is a prime number\n",
            "132 is not a prime number\n",
            "133 is not a prime number\n",
            "134 is not a prime number\n",
            "135 is not a prime number\n",
            "136 is not a prime number\n",
            "137 is a prime number\n",
            "138 is not a prime number\n",
            "139 is a prime number\n",
            "140 is not a prime number\n",
            "141 is not a prime number\n",
            "142 is not a prime number\n",
            "143 is not a prime number\n",
            "144 is not a prime number\n",
            "145 is not a prime number\n",
            "146 is not a prime number\n",
            "147 is not a prime number\n",
            "148 is not a prime number\n",
            "149 is a prime number\n",
            "150 is not a prime number\n",
            "151 is a prime number\n",
            "152 is not a prime number\n",
            "153 is not a prime number\n",
            "154 is not a prime number\n",
            "155 is not a prime number\n",
            "156 is not a prime number\n",
            "157 is a prime number\n",
            "158 is not a prime number\n",
            "159 is not a prime number\n",
            "160 is not a prime number\n",
            "161 is not a prime number\n",
            "162 is not a prime number\n",
            "163 is a prime number\n",
            "164 is not a prime number\n",
            "165 is not a prime number\n",
            "166 is not a prime number\n",
            "167 is a prime number\n",
            "168 is not a prime number\n",
            "169 is not a prime number\n",
            "170 is not a prime number\n",
            "171 is not a prime number\n",
            "172 is not a prime number\n",
            "173 is a prime number\n",
            "174 is not a prime number\n",
            "175 is not a prime number\n",
            "176 is not a prime number\n",
            "177 is not a prime number\n",
            "178 is not a prime number\n",
            "179 is a prime number\n",
            "180 is not a prime number\n",
            "181 is a prime number\n",
            "182 is not a prime number\n",
            "183 is not a prime number\n",
            "184 is not a prime number\n",
            "185 is not a prime number\n",
            "186 is not a prime number\n",
            "187 is not a prime number\n",
            "188 is not a prime number\n",
            "189 is not a prime number\n",
            "190 is not a prime number\n",
            "191 is a prime number\n",
            "192 is not a prime number\n",
            "193 is a prime number\n",
            "194 is not a prime number\n",
            "195 is not a prime number\n",
            "196 is not a prime number\n",
            "197 is a prime number\n",
            "198 is not a prime number\n",
            "199 is a prime number\n",
            "200 is not a prime number\n"
          ]
        }
      ]
    },
    {
      "cell_type": "markdown",
      "source": [
        "Q5. Create an iterator class in Python that generates the Fibonacci sequence up to a specified number of\n",
        "terms."
      ],
      "metadata": {
        "id": "DWTaGxLxV4mz"
      }
    },
    {
      "cell_type": "code",
      "source": [
        "class Fibonacci:\n",
        "    def __init__(self,n):\n",
        "        self.terms=n\n",
        "        self.count=0\n",
        "        self.a=0\n",
        "        self.b=1\n",
        "\n",
        "    def __iter__(self):\n",
        "        return self\n",
        "\n",
        "    def __next__(self):\n",
        "        if self.count>=self.terms:\n",
        "            raise StopIteration\n",
        "\n",
        "        if self.count==0:\n",
        "            self.count+=1\n",
        "            return self.a\n",
        "        elif self.count==1:\n",
        "            self.count+=1\n",
        "            return self.b\n",
        "        else:\n",
        "            self.count+=1\n",
        "            next=self.a+self.b\n",
        "            self.a=self.b\n",
        "            self.b=next\n",
        "            return next\n",
        "\n",
        "\n",
        "n=int(input())\n",
        "fib=Fibonacci(n)\n",
        "for i in fib:\n",
        "    print(i)"
      ],
      "metadata": {
        "colab": {
          "base_uri": "https://localhost:8080/"
        },
        "id": "_Ej2hsryWAOg",
        "outputId": "9b8a6807-b03d-4699-e278-399e4abe2e3f"
      },
      "execution_count": null,
      "outputs": [
        {
          "output_type": "stream",
          "name": "stdout",
          "text": [
            "10\n",
            "0\n",
            "1\n",
            "1\n",
            "2\n",
            "3\n",
            "5\n",
            "8\n",
            "13\n",
            "21\n",
            "34\n"
          ]
        }
      ]
    },
    {
      "cell_type": "markdown",
      "source": [
        "Q6. Write a generator function in Python that yields the powers of 2 up to a given exponent."
      ],
      "metadata": {
        "id": "03FQTnN2WI-J"
      }
    },
    {
      "cell_type": "code",
      "source": [
        "def sq(n):\n",
        "    for i in range(n+1):\n",
        "        yield 2**i\n",
        "\n",
        "n=int(input())\n",
        "for i in sq(n):\n",
        "    print(i)"
      ],
      "metadata": {
        "colab": {
          "base_uri": "https://localhost:8080/"
        },
        "id": "18Jgkn1TWQcO",
        "outputId": "37a0e871-dbcb-4f79-8e12-f5f9d78f9d84"
      },
      "execution_count": null,
      "outputs": [
        {
          "output_type": "stream",
          "name": "stdout",
          "text": [
            "5\n",
            "1\n",
            "2\n",
            "4\n",
            "8\n",
            "16\n",
            "32\n"
          ]
        }
      ]
    },
    {
      "cell_type": "markdown",
      "source": [
        "Q7. Implement a generator function that reads a file line by line and yields each line as a string."
      ],
      "metadata": {
        "id": "umfDCxgSWZ_L"
      }
    },
    {
      "cell_type": "code",
      "source": [
        "def read_file_line_by_line(file_path):\n",
        "    with open(file_path, 'r') as file:\n",
        "        for line in file:\n",
        "            yield line.strip()"
      ],
      "metadata": {
        "id": "WCYkI_4qWgXP"
      },
      "execution_count": null,
      "outputs": []
    },
    {
      "cell_type": "markdown",
      "source": [
        "Q8. Use a lambda function in Python to sort a list of tuples based on the second element of each tuple."
      ],
      "metadata": {
        "id": "eMa_5loNWkxN"
      }
    },
    {
      "cell_type": "code",
      "source": [
        "t1=[(1,10),(2,7),(4,8),(5,6),(3,0)]\n",
        "\n",
        "t2=sorted(t1,key=lambda x:x[1])\n",
        "print(t2)"
      ],
      "metadata": {
        "colab": {
          "base_uri": "https://localhost:8080/"
        },
        "id": "RzSNlG4DWrFu",
        "outputId": "47db2c44-2df1-4a3b-bc6a-340c989f17a8"
      },
      "execution_count": null,
      "outputs": [
        {
          "output_type": "stream",
          "name": "stdout",
          "text": [
            "[(3, 0), (5, 6), (2, 7), (4, 8), (1, 10)]\n"
          ]
        }
      ]
    },
    {
      "cell_type": "markdown",
      "source": [
        "Q9.Write a Python program that uses `map()` to convert a list of temperatures from Celsius to Fahrenheit."
      ],
      "metadata": {
        "id": "hJ1rt-7XVeIr"
      }
    },
    {
      "cell_type": "code",
      "source": [
        "celsius=[0, 15, 25, 30, 40, 100]\n",
        "\n",
        "farenheit=list(map(lambda x: (x*(9/5))+32, celsius))\n",
        "print(farenheit)"
      ],
      "metadata": {
        "id": "mCRvrTFdSg9Z",
        "outputId": "de9f2c2f-8b30-4dcd-c6e1-9a4c12a3415f",
        "colab": {
          "base_uri": "https://localhost:8080/"
        }
      },
      "execution_count": null,
      "outputs": [
        {
          "output_type": "stream",
          "name": "stdout",
          "text": [
            "[32.0, 59.0, 77.0, 86.0, 104.0, 212.0]\n"
          ]
        }
      ]
    },
    {
      "cell_type": "markdown",
      "source": [
        "Q10. Create a Python program that uses `filter()` to remove all the vowels from a given string."
      ],
      "metadata": {
        "id": "9NN39Lk1WuRy"
      }
    },
    {
      "cell_type": "code",
      "source": [
        "def remove_vowels(s):\n",
        "    vowels=set(\"aeiouAEIOU\")\n",
        "    s1=filter(lambda char: char not in vowels, s)\n",
        "    return ''.join(s1)\n",
        "\n",
        "s=input()\n",
        "s1=remove_vowels(s)\n",
        "print(s1)"
      ],
      "metadata": {
        "id": "u7ksGP6nShls",
        "colab": {
          "base_uri": "https://localhost:8080/"
        },
        "outputId": "aec50ed2-6458-4649-afed-fb965abaa9e2"
      },
      "execution_count": null,
      "outputs": [
        {
          "output_type": "stream",
          "name": "stdout",
          "text": [
            "This is a new string\n",
            "Ths s  nw strng\n"
          ]
        }
      ]
    },
    {
      "cell_type": "markdown",
      "source": [
        "Q11.Write a Python program, which returns a list with 2-tuples. Each tuple consists of the order number and the\n",
        "product of the price per item and the quantity. The product should be increased by 10,- € if the value of the\n",
        "order is smaller than 100,00 €."
      ],
      "metadata": {
        "id": "d1cL7ucmgMdL"
      }
    },
    {
      "cell_type": "code",
      "source": [
        "def book_shop(list):\n",
        "  result=[]\n",
        "  for o,n,q,p in list:\n",
        "    total=q*p\n",
        "    x=lambda x: x+10 if x<100 else x\n",
        "    total=x(total)\n",
        "    result.append((o,total))\n",
        "  return result\n",
        "\n",
        "list=[[34587,\"Learning Python,Mark Lutz\",4,40.95],[98762,\"Programming Python,Mark Litz\",5,40.95],[77226,\"Head First Python, paul Barry\",3,32.95],[88112,\"Einfuhrung in Python3, Bernd Klein\",3,24.99]]\n",
        "\n",
        "l1=book_shop(list)\n",
        "print(l1)"
      ],
      "metadata": {
        "id": "iyyO7GdjW3uZ",
        "colab": {
          "base_uri": "https://localhost:8080/"
        },
        "outputId": "59c49dff-c571-4ee2-d778-b012d28fab21"
      },
      "execution_count": 3,
      "outputs": [
        {
          "output_type": "stream",
          "name": "stdout",
          "text": [
            "[(34587, 163.8), (98762, 204.75), (77226, 108.85000000000001), (88112, 84.97)]\n"
          ]
        }
      ]
    },
    {
      "cell_type": "code",
      "source": [],
      "metadata": {
        "id": "Qg2q4s3bnJJX"
      },
      "execution_count": null,
      "outputs": []
    }
  ]
}